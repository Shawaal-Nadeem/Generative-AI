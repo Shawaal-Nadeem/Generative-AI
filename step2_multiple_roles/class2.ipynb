{
 "cells": [
  {
   "cell_type": "code",
   "execution_count": 4,
   "metadata": {},
   "outputs": [],
   "source": [
    "from openai import OpenAI\n",
    "from dotenv import load_dotenv,find_dotenv\n",
    "\n",
    "_ :bool=load_dotenv(find_dotenv())\n",
    "client:OpenAI=OpenAI()"
   ]
  },
  {
   "cell_type": "code",
   "execution_count": 5,
   "metadata": {},
   "outputs": [
    {
     "name": "stdout",
     "output_type": "stream",
     "text": [
      "In the realm of programming, there lies a beauty rare,\n",
      "A concept called recursion, to which I must declare.\n",
      "It happens when a function calls itself in a loop,\n",
      "A mesmerizing dance, like a graceful swoop.\n",
      "\n",
      "With elegance and grace, it solves problems profound,\n",
      "Dividing them into smaller parts, a solution is found.\n",
      "Like a mirror reflecting upon itself, it repeats,\n",
      "Unraveling complexities, in patterns it beats.\n",
      "\n",
      "A function within a function, a loop inside a loop,\n",
      "It climbs down the rabbit hole, like a daring troop.\n",
      "A cascade of calls, each one smaller than before,\n",
      "Until the base case is reached, the loop set to soar.\n",
      "\n",
      "It may seem mysterious, like a never-ending tale,\n",
      "But recursion brings clarity, like a ship's gentle sail.\n",
      "In the world of programming, it a vital role does play,\n",
      "A concept of enchantment, in a programmer's array.\n"
     ]
    }
   ],
   "source": [
    "from openai.types.chat.chat_completion import ChatCompletion\n",
    "\n",
    "def chat_completion(systemPrompt:str,userPrompt)->str:\n",
    "    response:ChatCompletion=client.chat.completions.create(\n",
    "        messages=[\n",
    "            {\n",
    "                \"role\":\"system\",\n",
    "                \"content\":systemPrompt\n",
    "            },\n",
    "            {\n",
    "                \"role\":\"user\",\n",
    "                \"content\":userPrompt\n",
    "            }\n",
    "        ],\n",
    "        model=\"gpt-3.5-turbo-1106\"\n",
    "    )\n",
    "    return response.choices[0].message.content\n",
    "\n",
    "userPrompt=\"Compose a poem in which you explain recurssion concept\"\n",
    "systemPrompt=\"You are a poetic assistant in which you are explaining complex programming concepts\"\n",
    "\n",
    "print(chat_completion(systemPrompt,userPrompt))"
   ]
  }
 ],
 "metadata": {
  "kernelspec": {
   "display_name": "myopenai",
   "language": "python",
   "name": "python3"
  },
  "language_info": {
   "codemirror_mode": {
    "name": "ipython",
    "version": 3
   },
   "file_extension": ".py",
   "mimetype": "text/x-python",
   "name": "python",
   "nbconvert_exporter": "python",
   "pygments_lexer": "ipython3",
   "version": "3.11.5"
  }
 },
 "nbformat": 4,
 "nbformat_minor": 2
}
