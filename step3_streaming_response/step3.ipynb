{
 "cells": [
  {
   "cell_type": "code",
   "execution_count": 1,
   "metadata": {},
   "outputs": [
    {
     "name": "stdout",
     "output_type": "stream",
     "text": [
      "Requirement already satisfied: openai in c:\\users\\shawal nadeem\\anaconda3\\envs\\myopenai\\lib\\site-packages (1.6.1)\n",
      "Requirement already satisfied: anyio<5,>=3.5.0 in c:\\users\\shawal nadeem\\anaconda3\\envs\\myopenai\\lib\\site-packages (from openai) (4.2.0)\n",
      "Requirement already satisfied: distro<2,>=1.7.0 in c:\\users\\shawal nadeem\\anaconda3\\envs\\myopenai\\lib\\site-packages (from openai) (1.9.0)\n",
      "Requirement already satisfied: httpx<1,>=0.23.0 in c:\\users\\shawal nadeem\\anaconda3\\envs\\myopenai\\lib\\site-packages (from openai) (0.26.0)\n",
      "Requirement already satisfied: pydantic<3,>=1.9.0 in c:\\users\\shawal nadeem\\anaconda3\\envs\\myopenai\\lib\\site-packages (from openai) (2.5.3)\n",
      "Requirement already satisfied: sniffio in c:\\users\\shawal nadeem\\anaconda3\\envs\\myopenai\\lib\\site-packages (from openai) (1.3.0)\n",
      "Requirement already satisfied: tqdm>4 in c:\\users\\shawal nadeem\\anaconda3\\envs\\myopenai\\lib\\site-packages (from openai) (4.66.1)\n",
      "Requirement already satisfied: typing-extensions<5,>=4.7 in c:\\users\\shawal nadeem\\anaconda3\\envs\\myopenai\\lib\\site-packages (from openai) (4.9.0)\n",
      "Requirement already satisfied: idna>=2.8 in c:\\users\\shawal nadeem\\anaconda3\\envs\\myopenai\\lib\\site-packages (from anyio<5,>=3.5.0->openai) (3.6)\n",
      "Requirement already satisfied: certifi in c:\\users\\shawal nadeem\\anaconda3\\envs\\myopenai\\lib\\site-packages (from httpx<1,>=0.23.0->openai) (2023.11.17)\n",
      "Requirement already satisfied: httpcore==1.* in c:\\users\\shawal nadeem\\anaconda3\\envs\\myopenai\\lib\\site-packages (from httpx<1,>=0.23.0->openai) (1.0.2)\n",
      "Requirement already satisfied: h11<0.15,>=0.13 in c:\\users\\shawal nadeem\\anaconda3\\envs\\myopenai\\lib\\site-packages (from httpcore==1.*->httpx<1,>=0.23.0->openai) (0.14.0)\n",
      "Requirement already satisfied: annotated-types>=0.4.0 in c:\\users\\shawal nadeem\\anaconda3\\envs\\myopenai\\lib\\site-packages (from pydantic<3,>=1.9.0->openai) (0.6.0)\n",
      "Requirement already satisfied: pydantic-core==2.14.6 in c:\\users\\shawal nadeem\\anaconda3\\envs\\myopenai\\lib\\site-packages (from pydantic<3,>=1.9.0->openai) (2.14.6)\n",
      "Requirement already satisfied: colorama in c:\\users\\shawal nadeem\\anaconda3\\envs\\myopenai\\lib\\site-packages (from tqdm>4->openai) (0.4.6)\n",
      "Note: you may need to restart the kernel to use updated packages.\n",
      "Requirement already satisfied: python-dotenv in c:\\users\\shawal nadeem\\anaconda3\\envs\\myopenai\\lib\\site-packages (1.0.0)\n",
      "Note: you may need to restart the kernel to use updated packages.\n"
     ]
    }
   ],
   "source": [
    "%pip install openai\n",
    "%pip install python-dotenv"
   ]
  },
  {
   "cell_type": "code",
   "execution_count": 2,
   "metadata": {},
   "outputs": [],
   "source": [
    "from openai import OpenAI\n",
    "from dotenv import load_dotenv,find_dotenv\n",
    "\n",
    "_ :bool=load_dotenv(find_dotenv())\n",
    "client:OpenAI=OpenAI()"
   ]
  },
  {
   "cell_type": "code",
   "execution_count": 6,
   "metadata": {},
   "outputs": [
    {
     "name": "stdout",
     "output_type": "stream",
     "text": [
      "\n",
      "In\n",
      " the\n",
      " still\n",
      "ness\n",
      " of\n",
      " the\n",
      " night\n",
      ",\n",
      " I\n",
      " whisper\n",
      " your\n",
      " name\n",
      "\n",
      "\n",
      "A\n",
      " melody\n",
      " that\n",
      " echoes\n",
      " in\n",
      " my\n",
      " heart\n",
      "\n",
      "\n",
      "Your\n",
      " love\n",
      " is\n",
      " a\n",
      " flame\n",
      " that\n",
      " lights\n",
      " up\n",
      " my\n",
      " soul\n",
      "\n",
      "\n",
      "In\n",
      " your\n",
      " arms\n",
      ",\n",
      " I\n",
      " find\n",
      " peace\n",
      " and\n",
      " warmth\n",
      "\n",
      "\n",
      "Every\n",
      " moment\n",
      " with\n",
      " you\n",
      " is\n",
      " a\n",
      " sweet\n",
      " sym\n",
      "phony\n",
      "\n",
      "\n",
      "Our\n",
      " love\n",
      " story\n",
      ",\n",
      " a\n",
      " timeless\n",
      " masterpiece\n",
      "\n",
      "\n",
      "Forever\n",
      " ent\n",
      "w\n",
      "ined\n",
      ",\n",
      " you\n",
      " and\n",
      " me\n",
      ".\n",
      "None\n"
     ]
    }
   ],
   "source": [
    "from openai.types.chat.chat_completion import ChatCompletion\n",
    "\n",
    "response:ChatCompletion=client.chat.completions.create(\n",
    "    messages=[{\n",
    "        \"role\":\"user\",\n",
    "        \"content\":\"Write 50 words of romantic poetry\"\n",
    "    }],\n",
    "    stream=True,\n",
    "    model=\"gpt-3.5-turbo-1106\"\n",
    ")\n",
    "\n",
    "# print (response)\n",
    "for i in response:\n",
    "    print(i.choices[0].delta.content)"
   ]
  }
 ],
 "metadata": {
  "kernelspec": {
   "display_name": "myopenai",
   "language": "python",
   "name": "python3"
  },
  "language_info": {
   "codemirror_mode": {
    "name": "ipython",
    "version": 3
   },
   "file_extension": ".py",
   "mimetype": "text/x-python",
   "name": "python",
   "nbconvert_exporter": "python",
   "pygments_lexer": "ipython3",
   "version": "3.11.5"
  }
 },
 "nbformat": 4,
 "nbformat_minor": 2
}
