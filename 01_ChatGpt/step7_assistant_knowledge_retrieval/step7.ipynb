{
 "cells": [
  {
   "cell_type": "code",
   "execution_count": null,
   "metadata": {},
   "outputs": [],
   "source": [
    "%pip install openai"
   ]
  },
  {
   "cell_type": "code",
   "execution_count": 1,
   "metadata": {},
   "outputs": [],
   "source": [
    "from openai import OpenAI\n",
    "from dotenv import load_dotenv, find_dotenv\n",
    "\n",
    "_ :bool=load_dotenv(find_dotenv())\n",
    "client:OpenAI=OpenAI()"
   ]
  },
  {
   "cell_type": "code",
   "execution_count": 2,
   "metadata": {},
   "outputs": [
    {
     "name": "stdout",
     "output_type": "stream",
     "text": [
      "FileObject(id='file-xLLTONHteWa6R86aYevzW6Un', bytes=48802, created_at=1704005694, filename='zia_profile.pdf', object='file', purpose='assistants', status='processed', status_details=None)\n"
     ]
    }
   ],
   "source": [
    "file=client.files.create(\n",
    "    file=open(\"zia_profile.pdf\",\"rb\"),\n",
    "    purpose=\"assistants\"\n",
    ")\n",
    "print(file)"
   ]
  },
  {
   "cell_type": "code",
   "execution_count": 3,
   "metadata": {},
   "outputs": [
    {
     "name": "stdout",
     "output_type": "stream",
     "text": [
      "Assistant(id='asst_k2zTS92FWTEqLPVwDQQZnB5m', created_at=1704005726, description=None, file_ids=['file-xLLTONHteWa6R86aYevzW6Un'], instructions='You are a student support chatbot. Use your knowledge base to best respond to student queries about Zia U. Khan.', metadata={}, model='gpt-3.5-turbo-1106', name='Student Support Assistant', object='assistant', tools=[ToolRetrieval(type='retrieval')])\n"
     ]
    }
   ],
   "source": [
    "from openai.types.beta.assistant import Assistant\n",
    "\n",
    "assistant:Assistant=client.beta.assistants.create(\n",
    "    name=\"Student Support Assistant\",\n",
    "    instructions=\"You are a student support chatbot. Use your knowledge base to best respond to student queries about Zia U. Khan.\",\n",
    "    tools=[{\"type\":\"retrieval\"}],\n",
    "    model=\"gpt-3.5-turbo-1106\",\n",
    "    file_ids=[file.id]\n",
    ")\n",
    "\n",
    "print(assistant)"
   ]
  },
  {
   "cell_type": "code",
   "execution_count": 4,
   "metadata": {},
   "outputs": [
    {
     "name": "stdout",
     "output_type": "stream",
     "text": [
      "Thread(id='thread_eLh2OIY1R0Jy8kFH8nURqPxX', created_at=1704005755, metadata={}, object='thread')\n"
     ]
    }
   ],
   "source": [
    "from openai.types.beta.thread import Thread\n",
    "\n",
    "thread:Thread=client.beta.threads.create()\n",
    "\n",
    "print(thread)"
   ]
  },
  {
   "cell_type": "code",
   "execution_count": 5,
   "metadata": {},
   "outputs": [
    {
     "name": "stdout",
     "output_type": "stream",
     "text": [
      "ThreadMessage(id='msg_hjCbkGMhExzyMUyw9Kq86frz', assistant_id=None, content=[MessageContentText(text=Text(annotations=[], value='When and which city Zia U. Khan was born?'), type='text')], created_at=1704005758, file_ids=[], metadata={}, object='thread.message', role='user', run_id=None, thread_id='thread_eLh2OIY1R0Jy8kFH8nURqPxX')\n"
     ]
    }
   ],
   "source": [
    "from openai.types.beta.threads.thread_message import ThreadMessage\n",
    "\n",
    "message:ThreadMessage=client.beta.threads.messages.create(\n",
    "    thread_id=thread.id,\n",
    "    role=\"user\",\n",
    "    content=\"When and which city Zia U. Khan was born?\"\n",
    ")\n",
    "\n",
    "print(message)"
   ]
  },
  {
   "cell_type": "code",
   "execution_count": 6,
   "metadata": {},
   "outputs": [
    {
     "name": "stdout",
     "output_type": "stream",
     "text": [
      "Run(id='run_kaChVCNjacnPE9jMq27INKEW', assistant_id='asst_k2zTS92FWTEqLPVwDQQZnB5m', cancelled_at=None, completed_at=None, created_at=1704005768, expires_at=1704006368, failed_at=None, file_ids=['file-xLLTONHteWa6R86aYevzW6Un'], instructions='You are a student support chatbot. Use your knowledge base to best respond to student queries about Zia U. Khan.', last_error=None, metadata={}, model='gpt-3.5-turbo-1106', object='thread.run', required_action=None, started_at=None, status='queued', thread_id='thread_eLh2OIY1R0Jy8kFH8nURqPxX', tools=[ToolAssistantToolsRetrieval(type='retrieval')])\n",
      "Run(id='run_kaChVCNjacnPE9jMq27INKEW', assistant_id='asst_k2zTS92FWTEqLPVwDQQZnB5m', cancelled_at=None, completed_at=1704005775, created_at=1704005768, expires_at=None, failed_at=None, file_ids=['file-xLLTONHteWa6R86aYevzW6Un'], instructions='You are a student support chatbot. Use your knowledge base to best respond to student queries about Zia U. Khan.', last_error=None, metadata={}, model='gpt-3.5-turbo-1106', object='thread.run', required_action=None, started_at=1704005769, status='completed', thread_id='thread_eLh2OIY1R0Jy8kFH8nURqPxX', tools=[ToolAssistantToolsRetrieval(type='retrieval')])\n"
     ]
    }
   ],
   "source": [
    "from openai.types.beta.threads.run import Run\n",
    "import time\n",
    "run:Run=client.beta.threads.runs.create(\n",
    "    assistant_id=assistant.id,\n",
    "    thread_id=thread.id\n",
    ")\n",
    "\n",
    "print(run)\n",
    "\n",
    "while run.status == \"queued\" or run.status == \"in_progress\":\n",
    "    time.sleep(5)  \n",
    "    run = client.beta.threads.runs.retrieve(\n",
    "        thread_id=thread.id,\n",
    "        run_id=run.id\n",
    "    )\n",
    "    \n",
    "  \n",
    "print(run)\n",
    "\n"
   ]
  },
  {
   "cell_type": "code",
   "execution_count": 7,
   "metadata": {},
   "outputs": [
    {
     "name": "stdout",
     "output_type": "stream",
     "text": [
      "[ThreadMessage(id='msg_MMEDVQfyUkA2dsvhJrYUp9oV', assistant_id='asst_k2zTS92FWTEqLPVwDQQZnB5m', content=[MessageContentText(text=Text(annotations=[TextAnnotationFileCitation(end_index=49, file_citation=TextAnnotationFileCitationFileCitation(file_id='file-xLLTONHteWa6R86aYevzW6Un', quote='Zia Khan was born in Sialkot in 1961 in an army garrison. His father the late Lt. Col. Inam Ullah Khan was an army officer who had been posted to Sialkot in an artillery regiment. The family moved throughout Pakistan'), start_index=39, text='【7†source】', type='file_citation')], value='Zia U. Khan was born in Sialkot in 1961【7†source】.'), type='text')], created_at=1704005772, file_ids=[], metadata={}, object='thread.message', role='assistant', run_id='run_kaChVCNjacnPE9jMq27INKEW', thread_id='thread_eLh2OIY1R0Jy8kFH8nURqPxX'), ThreadMessage(id='msg_hjCbkGMhExzyMUyw9Kq86frz', assistant_id=None, content=[MessageContentText(text=Text(annotations=[], value='When and which city Zia U. Khan was born?'), type='text')], created_at=1704005758, file_ids=[], metadata={}, object='thread.message', role='user', run_id=None, thread_id='thread_eLh2OIY1R0Jy8kFH8nURqPxX')]\n",
      "user : When and which city Zia U. Khan was born?\n",
      "assistant : Zia U. Khan was born in Sialkot in 1961【7†source】.\n"
     ]
    }
   ],
   "source": [
    "result:list[ThreadMessage]=client.beta.threads.messages.list(\n",
    "    thread_id=thread.id\n",
    ")\n",
    "\n",
    "print(list(result))\n",
    "\n",
    "for m in reversed(result.data):\n",
    "    print(m.role + \" : \" + m.content[0].text.value)"
   ]
  }
 ],
 "metadata": {
  "kernelspec": {
   "display_name": "myopenai",
   "language": "python",
   "name": "python3"
  },
  "language_info": {
   "codemirror_mode": {
    "name": "ipython",
    "version": 3
   },
   "file_extension": ".py",
   "mimetype": "text/x-python",
   "name": "python",
   "nbconvert_exporter": "python",
   "pygments_lexer": "ipython3",
   "version": "3.11.5"
  }
 },
 "nbformat": 4,
 "nbformat_minor": 2
}
