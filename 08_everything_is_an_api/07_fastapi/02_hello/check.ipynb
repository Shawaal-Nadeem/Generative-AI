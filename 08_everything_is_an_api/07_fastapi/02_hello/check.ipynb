{
 "cells": [
  {
   "cell_type": "code",
   "execution_count": 1,
   "metadata": {},
   "outputs": [
    {
     "name": "stdout",
     "output_type": "stream",
     "text": [
      "{\"text\":\"Hello World\"}\n",
      "{'text': 'Hello World'}\n",
      "200\n",
      "{'date': 'Thu, 07 Mar 2024 10:12:56 GMT', 'server': 'uvicorn', 'content-length': '22', 'content-type': 'application/json'}\n"
     ]
    }
   ],
   "source": [
    "import requests\n",
    "\n",
    "response = requests.get('http://127.0.0.1:8000')\n",
    "print(response.text)\n",
    "print(response.json())\n",
    "print(response.status_code)\n",
    "print(response.headers)\n"
   ]
  }
 ],
 "metadata": {
  "kernelspec": {
   "display_name": "myopenai",
   "language": "python",
   "name": "python3"
  },
  "language_info": {
   "codemirror_mode": {
    "name": "ipython",
    "version": 3
   },
   "file_extension": ".py",
   "mimetype": "text/x-python",
   "name": "python",
   "nbconvert_exporter": "python",
   "pygments_lexer": "ipython3",
   "version": "3.11.5"
  }
 },
 "nbformat": 4,
 "nbformat_minor": 2
}
