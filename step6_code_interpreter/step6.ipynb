{
 "cells": [
  {
   "cell_type": "code",
   "execution_count": 1,
   "metadata": {},
   "outputs": [
    {
     "name": "stdout",
     "output_type": "stream",
     "text": [
      "Requirement already satisfied: openai in c:\\users\\shawal nadeem\\anaconda3\\envs\\myopenai\\lib\\site-packages (1.6.1)\n",
      "Requirement already satisfied: anyio<5,>=3.5.0 in c:\\users\\shawal nadeem\\anaconda3\\envs\\myopenai\\lib\\site-packages (from openai) (4.2.0)\n",
      "Requirement already satisfied: distro<2,>=1.7.0 in c:\\users\\shawal nadeem\\anaconda3\\envs\\myopenai\\lib\\site-packages (from openai) (1.9.0)\n",
      "Requirement already satisfied: httpx<1,>=0.23.0 in c:\\users\\shawal nadeem\\anaconda3\\envs\\myopenai\\lib\\site-packages (from openai) (0.26.0)\n",
      "Requirement already satisfied: pydantic<3,>=1.9.0 in c:\\users\\shawal nadeem\\anaconda3\\envs\\myopenai\\lib\\site-packages (from openai) (2.5.3)\n",
      "Requirement already satisfied: sniffio in c:\\users\\shawal nadeem\\anaconda3\\envs\\myopenai\\lib\\site-packages (from openai) (1.3.0)\n",
      "Requirement already satisfied: tqdm>4 in c:\\users\\shawal nadeem\\anaconda3\\envs\\myopenai\\lib\\site-packages (from openai) (4.66.1)\n",
      "Requirement already satisfied: typing-extensions<5,>=4.7 in c:\\users\\shawal nadeem\\anaconda3\\envs\\myopenai\\lib\\site-packages (from openai) (4.9.0)\n",
      "Requirement already satisfied: idna>=2.8 in c:\\users\\shawal nadeem\\anaconda3\\envs\\myopenai\\lib\\site-packages (from anyio<5,>=3.5.0->openai) (3.6)\n",
      "Requirement already satisfied: certifi in c:\\users\\shawal nadeem\\anaconda3\\envs\\myopenai\\lib\\site-packages (from httpx<1,>=0.23.0->openai) (2023.11.17)\n",
      "Requirement already satisfied: httpcore==1.* in c:\\users\\shawal nadeem\\anaconda3\\envs\\myopenai\\lib\\site-packages (from httpx<1,>=0.23.0->openai) (1.0.2)\n",
      "Requirement already satisfied: h11<0.15,>=0.13 in c:\\users\\shawal nadeem\\anaconda3\\envs\\myopenai\\lib\\site-packages (from httpcore==1.*->httpx<1,>=0.23.0->openai) (0.14.0)\n",
      "Requirement already satisfied: annotated-types>=0.4.0 in c:\\users\\shawal nadeem\\anaconda3\\envs\\myopenai\\lib\\site-packages (from pydantic<3,>=1.9.0->openai) (0.6.0)\n",
      "Requirement already satisfied: pydantic-core==2.14.6 in c:\\users\\shawal nadeem\\anaconda3\\envs\\myopenai\\lib\\site-packages (from pydantic<3,>=1.9.0->openai) (2.14.6)\n",
      "Requirement already satisfied: colorama in c:\\users\\shawal nadeem\\anaconda3\\envs\\myopenai\\lib\\site-packages (from tqdm>4->openai) (0.4.6)\n",
      "Note: you may need to restart the kernel to use updated packages.\n",
      "Collecting dotenvNote: you may need to restart the kernel to use updated packages.\n",
      "\n",
      "  Using cached dotenv-0.0.5.tar.gz (2.4 kB)\n",
      "  Preparing metadata (setup.py): started\n",
      "  Preparing metadata (setup.py): finished with status 'error'\n"
     ]
    },
    {
     "name": "stderr",
     "output_type": "stream",
     "text": [
      "  error: subprocess-exited-with-error\n",
      "  \n",
      "  × python setup.py egg_info did not run successfully.\n",
      "  │ exit code: 1\n",
      "  ╰─> [83 lines of output]\n",
      "      c:\\Users\\Shawal Nadeem\\anaconda3\\envs\\myopenai\\Lib\\site-packages\\setuptools\\__init__.py:80: _DeprecatedInstaller: setuptools.installer and fetch_build_eggs are deprecated.\n",
      "      !!\n",
      "      \n",
      "              ********************************************************************************\n",
      "              Requirements should be satisfied by a PEP 517 installer.\n",
      "              If you are using pip, you can try `pip install --use-pep517`.\n",
      "              ********************************************************************************\n",
      "      \n",
      "      !!\n",
      "        dist.fetch_build_eggs(dist.setup_requires)\n",
      "        error: subprocess-exited-with-error\n",
      "      \n",
      "        × python setup.py egg_info did not run successfully.\n",
      "        │ exit code: 1\n",
      "        ╰─> [17 lines of output]\n",
      "            Traceback (most recent call last):\n",
      "              File \"<string>\", line 2, in <module>\n",
      "              File \"<pip-setuptools-caller>\", line 14, in <module>\n",
      "              File \"C:\\Users\\Shawal Nadeem\\AppData\\Local\\Temp\\pip-wheel-nh4axk_e\\distribute_b608087587554701888bfbc4be2fea5e\\setuptools\\__init__.py\", line 2, in <module>\n",
      "                from setuptools.extension import Extension, Library\n",
      "              File \"C:\\Users\\Shawal Nadeem\\AppData\\Local\\Temp\\pip-wheel-nh4axk_e\\distribute_b608087587554701888bfbc4be2fea5e\\setuptools\\extension.py\", line 5, in <module>\n",
      "                from setuptools.dist import _get_unpatched\n",
      "              File \"C:\\Users\\Shawal Nadeem\\AppData\\Local\\Temp\\pip-wheel-nh4axk_e\\distribute_b608087587554701888bfbc4be2fea5e\\setuptools\\dist.py\", line 7, in <module>\n",
      "                from setuptools.command.install import install\n",
      "              File \"C:\\Users\\Shawal Nadeem\\AppData\\Local\\Temp\\pip-wheel-nh4axk_e\\distribute_b608087587554701888bfbc4be2fea5e\\setuptools\\command\\__init__.py\", line 8, in <module>\n",
      "                from setuptools.command import install_scripts\n",
      "              File \"C:\\Users\\Shawal Nadeem\\AppData\\Local\\Temp\\pip-wheel-nh4axk_e\\distribute_b608087587554701888bfbc4be2fea5e\\setuptools\\command\\install_scripts.py\", line 3, in <module>\n",
      "                from pkg_resources import Distribution, PathMetadata, ensure_directory\n",
      "              File \"C:\\Users\\Shawal Nadeem\\AppData\\Local\\Temp\\pip-wheel-nh4axk_e\\distribute_b608087587554701888bfbc4be2fea5e\\pkg_resources.py\", line 1518, in <module>\n",
      "                register_loader_type(importlib_bootstrap.SourceFileLoader, DefaultProvider)\n",
      "                                     ^^^^^^^^^^^^^^^^^^^^^^^^^^^^^^^^^^^^\n",
      "            AttributeError: module 'importlib._bootstrap' has no attribute 'SourceFileLoader'\n",
      "            [end of output]\n",
      "      \n",
      "        note: This error originates from a subprocess, and is likely not a problem with pip.\n",
      "      error: metadata-generation-failed\n",
      "      \n",
      "      × Encountered error while generating package metadata.\n",
      "      ╰─> See above for output.\n",
      "      \n",
      "      note: This is an issue with the package mentioned above, not pip.\n",
      "      hint: See above for details.\n",
      "      Traceback (most recent call last):\n",
      "        File \"c:\\Users\\Shawal Nadeem\\anaconda3\\envs\\myopenai\\Lib\\site-packages\\setuptools\\installer.py\", line 101, in _fetch_build_egg_no_warn\n",
      "          subprocess.check_call(cmd)\n",
      "        File \"c:\\Users\\Shawal Nadeem\\anaconda3\\envs\\myopenai\\Lib\\subprocess.py\", line 413, in check_call\n",
      "          raise CalledProcessError(retcode, cmd)\n",
      "      subprocess.CalledProcessError: Command '['c:\\\\Users\\\\Shawal Nadeem\\\\anaconda3\\\\envs\\\\myopenai\\\\python.exe', '-m', 'pip', '--disable-pip-version-check', 'wheel', '--no-deps', '-w', 'C:\\\\Users\\\\SHAWAL~1\\\\AppData\\\\Local\\\\Temp\\\\tmpb0c3aqf2', '--quiet', 'distribute']' returned non-zero exit status 1.\n",
      "      \n",
      "      The above exception was the direct cause of the following exception:\n",
      "      \n",
      "      Traceback (most recent call last):\n",
      "        File \"<string>\", line 2, in <module>\n",
      "        File \"<pip-setuptools-caller>\", line 34, in <module>\n",
      "        File \"C:\\Users\\Shawal Nadeem\\AppData\\Local\\Temp\\pip-install-hqbfdb2l\\dotenv_ff27f2cea3234359bf0a2e45e5677b30\\setup.py\", line 13, in <module>\n",
      "          setup(name='dotenv',\n",
      "        File \"c:\\Users\\Shawal Nadeem\\anaconda3\\envs\\myopenai\\Lib\\site-packages\\setuptools\\__init__.py\", line 102, in setup\n",
      "          _install_setup_requires(attrs)\n",
      "        File \"c:\\Users\\Shawal Nadeem\\anaconda3\\envs\\myopenai\\Lib\\site-packages\\setuptools\\__init__.py\", line 75, in _install_setup_requires\n",
      "          _fetch_build_eggs(dist)\n",
      "        File \"c:\\Users\\Shawal Nadeem\\anaconda3\\envs\\myopenai\\Lib\\site-packages\\setuptools\\__init__.py\", line 80, in _fetch_build_eggs\n",
      "          dist.fetch_build_eggs(dist.setup_requires)\n",
      "        File \"c:\\Users\\Shawal Nadeem\\anaconda3\\envs\\myopenai\\Lib\\site-packages\\setuptools\\dist.py\", line 662, in fetch_build_eggs\n",
      "          return _fetch_build_eggs(self, requires)\n",
      "                 ^^^^^^^^^^^^^^^^^^^^^^^^^^^^^^^^^\n",
      "        File \"c:\\Users\\Shawal Nadeem\\anaconda3\\envs\\myopenai\\Lib\\site-packages\\setuptools\\installer.py\", line 38, in _fetch_build_eggs\n",
      "          resolved_dists = pkg_resources.working_set.resolve(\n",
      "                           ^^^^^^^^^^^^^^^^^^^^^^^^^^^^^^^^^^\n",
      "        File \"c:\\Users\\Shawal Nadeem\\anaconda3\\envs\\myopenai\\Lib\\site-packages\\pkg_resources\\__init__.py\", line 829, in resolve\n",
      "          dist = self._resolve_dist(\n",
      "                 ^^^^^^^^^^^^^^^^^^^\n",
      "        File \"c:\\Users\\Shawal Nadeem\\anaconda3\\envs\\myopenai\\Lib\\site-packages\\pkg_resources\\__init__.py\", line 865, in _resolve_dist\n",
      "          dist = best[req.key] = env.best_match(\n",
      "                                 ^^^^^^^^^^^^^^^\n",
      "        File \"c:\\Users\\Shawal Nadeem\\anaconda3\\envs\\myopenai\\Lib\\site-packages\\pkg_resources\\__init__.py\", line 1135, in best_match\n",
      "          return self.obtain(req, installer)\n",
      "                 ^^^^^^^^^^^^^^^^^^^^^^^^^^^\n",
      "        File \"c:\\Users\\Shawal Nadeem\\anaconda3\\envs\\myopenai\\Lib\\site-packages\\pkg_resources\\__init__.py\", line 1147, in obtain\n",
      "          return installer(requirement)\n",
      "                 ^^^^^^^^^^^^^^^^^^^^^^\n",
      "        File \"c:\\Users\\Shawal Nadeem\\anaconda3\\envs\\myopenai\\Lib\\site-packages\\setuptools\\installer.py\", line 103, in _fetch_build_egg_no_warn\n",
      "          raise DistutilsError(str(e)) from e\n",
      "      distutils.errors.DistutilsError: Command '['c:\\\\Users\\\\Shawal Nadeem\\\\anaconda3\\\\envs\\\\myopenai\\\\python.exe', '-m', 'pip', '--disable-pip-version-check', 'wheel', '--no-deps', '-w', 'C:\\\\Users\\\\SHAWAL~1\\\\AppData\\\\Local\\\\Temp\\\\tmpb0c3aqf2', '--quiet', 'distribute']' returned non-zero exit status 1.\n",
      "      [end of output]\n",
      "  \n",
      "  note: This error originates from a subprocess, and is likely not a problem with pip.\n",
      "error: metadata-generation-failed\n",
      "\n",
      "× Encountered error while generating package metadata.\n",
      "╰─> See above for output.\n",
      "\n",
      "note: This is an issue with the package mentioned above, not pip.\n",
      "hint: See above for details.\n"
     ]
    }
   ],
   "source": [
    "%pip install openai\n",
    "%pip install dotenv"
   ]
  },
  {
   "cell_type": "code",
   "execution_count": 2,
   "metadata": {},
   "outputs": [],
   "source": [
    "from openai import OpenAI\n",
    "from dotenv import load_dotenv, find_dotenv\n",
    "\n",
    "_ :bool=load_dotenv(find_dotenv())\n",
    "client:OpenAI=OpenAI()"
   ]
  },
  {
   "cell_type": "markdown",
   "metadata": {},
   "source": [
    "<img src=\"assistants.png\"/>"
   ]
  },
  {
   "cell_type": "code",
   "execution_count": 3,
   "metadata": {},
   "outputs": [],
   "source": [
    "# Create Assistant\n",
    "from openai.types.beta.assistant import Assistant\n",
    "\n",
    "assistant:Assistant=client.beta.assistants.create(\n",
    "    name=\"Math Tutor\",\n",
    "    instructions=\"You are personal math tutor. Write and run code to answer math equations or questions.\",\n",
    "    tools=[{\"type\":\"code_interpreter\"}],\n",
    "    model=\"gpt-3.5-turbo-1106\"\n",
    ")"
   ]
  },
  {
   "cell_type": "code",
   "execution_count": 5,
   "metadata": {},
   "outputs": [
    {
     "name": "stdout",
     "output_type": "stream",
     "text": [
      "Thread(id='thread_5NWhsInhqGuNP24GrnzIdBo9', created_at=1703763121, metadata={}, object='thread')\n"
     ]
    }
   ],
   "source": [
    "# Create Thread\n",
    "from openai.types.beta.thread import Thread\n",
    "thread:Thread=client.beta.threads.create()\n",
    "print (thread)"
   ]
  },
  {
   "cell_type": "code",
   "execution_count": 15,
   "metadata": {},
   "outputs": [
    {
     "name": "stdout",
     "output_type": "stream",
     "text": [
      "ThreadMessage(id='msg_eN86mgRuGrTmAa1pPi280aqp', assistant_id=None, content=[MessageContentText(text=Text(annotations=[], value='I need to solve equation 3x+11=14. Can u help me ?'), type='text')], created_at=1703763908, file_ids=[], metadata={}, object='thread.message', role='user', run_id=None, thread_id='thread_5NWhsInhqGuNP24GrnzIdBo9')\n"
     ]
    }
   ],
   "source": [
    "# Add Message to Thread\n",
    "from openai.types.beta.threads.thread_message import ThreadMessage\n",
    "message:ThreadMessage=client.beta.threads.messages.create(\n",
    "    thread_id=thread.id,\n",
    "    role=\"user\",\n",
    "    content=\"I need to solve equation 3x+11=14. Can u help me ?\"\n",
    "\n",
    ")\n",
    "print(message)"
   ]
  },
  {
   "cell_type": "code",
   "execution_count": 16,
   "metadata": {},
   "outputs": [
    {
     "name": "stdout",
     "output_type": "stream",
     "text": [
      "Run(id='run_8L6smI56DxDx0iChivZdIGcr', assistant_id='asst_30bQZvjDwaLS9Yh9ZgVTGNCN', cancelled_at=None, completed_at=None, created_at=1703763912, expires_at=1703764512, failed_at=None, file_ids=[], instructions='You are personal math tutor. Write and run code to answer math equations or questions.', last_error=None, metadata={}, model='gpt-3.5-turbo-1106', object='thread.run', required_action=None, started_at=None, status='queued', thread_id='thread_5NWhsInhqGuNP24GrnzIdBo9', tools=[ToolAssistantToolsCode(type='code_interpreter')])\n"
     ]
    }
   ],
   "source": [
    "# Run Assistant\n",
    "from openai.types.beta.threads.run import Run\n",
    "\n",
    "run:Run=client.beta.threads.runs.create(\n",
    "    thread_id=thread.id,\n",
    "    assistant_id=assistant.id\n",
    ")\n",
    "\n",
    "print (run)"
   ]
  },
  {
   "cell_type": "code",
   "execution_count": 19,
   "metadata": {},
   "outputs": [
    {
     "name": "stdout",
     "output_type": "stream",
     "text": [
      "Run(id='run_8L6smI56DxDx0iChivZdIGcr', assistant_id='asst_30bQZvjDwaLS9Yh9ZgVTGNCN', cancelled_at=None, completed_at=1703763923, created_at=1703763912, expires_at=None, failed_at=None, file_ids=[], instructions='You are personal math tutor. Write and run code to answer math equations or questions.', last_error=None, metadata={}, model='gpt-3.5-turbo-1106', object='thread.run', required_action=None, started_at=1703763912, status='completed', thread_id='thread_5NWhsInhqGuNP24GrnzIdBo9', tools=[ToolAssistantToolsCode(type='code_interpreter')])\n"
     ]
    }
   ],
   "source": [
    "# Check Status of Run\n",
    "\n",
    "run:Run=client.beta.threads.runs.retrieve(\n",
    "    thread_id=thread.id,\n",
    "    run_id=run.id\n",
    ")\n",
    "print(run)"
   ]
  },
  {
   "cell_type": "code",
   "execution_count": 22,
   "metadata": {},
   "outputs": [
    {
     "name": "stdout",
     "output_type": "stream",
     "text": [
      "[ThreadMessage(id='msg_c6aXAiVz2lrnQGmiu2BWUb6M', assistant_id='asst_30bQZvjDwaLS9Yh9ZgVTGNCN', content=[MessageContentText(text=Text(annotations=[], value='The solution to the equation 3x + 11 = 14 is \\\\( x = 1 \\\\)'), type='text')], created_at=1703763922, file_ids=[], metadata={}, object='thread.message', role='assistant', run_id='run_8L6smI56DxDx0iChivZdIGcr', thread_id='thread_5NWhsInhqGuNP24GrnzIdBo9'), ThreadMessage(id='msg_VLIv28arIZKcJOjAbMBThtxm', assistant_id='asst_30bQZvjDwaLS9Yh9ZgVTGNCN', content=[MessageContentText(text=Text(annotations=[], value=\"Absolutely! I can assist you with solving the equation 3x + 11 = 14. I'll proceed with the calculation.\"), type='text')], created_at=1703763914, file_ids=[], metadata={}, object='thread.message', role='assistant', run_id='run_8L6smI56DxDx0iChivZdIGcr', thread_id='thread_5NWhsInhqGuNP24GrnzIdBo9'), ThreadMessage(id='msg_eN86mgRuGrTmAa1pPi280aqp', assistant_id=None, content=[MessageContentText(text=Text(annotations=[], value='I need to solve equation 3x+11=14. Can u help me ?'), type='text')], created_at=1703763908, file_ids=[], metadata={}, object='thread.message', role='user', run_id=None, thread_id='thread_5NWhsInhqGuNP24GrnzIdBo9'), ThreadMessage(id='msg_cJZbev3NPCDNWpMqrEaUWZr4', assistant_id='asst_30bQZvjDwaLS9Yh9ZgVTGNCN', content=[MessageContentText(text=Text(annotations=[], value='The solution to the equation 2x + 5 = 10 is \\\\( x = \\\\frac{5}{2} \\\\)'), type='text')], created_at=1703763402, file_ids=[], metadata={}, object='thread.message', role='assistant', run_id='run_p3PgeTthomY0DVgyf8Xiw6Zg', thread_id='thread_5NWhsInhqGuNP24GrnzIdBo9'), ThreadMessage(id='msg_fqB9zqfjD1nkgpHUXLWqmT4X', assistant_id='asst_30bQZvjDwaLS9Yh9ZgVTGNCN', content=[MessageContentText(text=Text(annotations=[], value='Of course! To solve the equation 2x + 5 = 10, we can isolate the variable x by performing algebraic operations. Let me calculate the value of x for you.'), type='text')], created_at=1703763384, file_ids=[], metadata={}, object='thread.message', role='assistant', run_id='run_p3PgeTthomY0DVgyf8Xiw6Zg', thread_id='thread_5NWhsInhqGuNP24GrnzIdBo9'), ThreadMessage(id='msg_Rc8apENUEkCdU2TfXrfAdgIO', assistant_id=None, content=[MessageContentText(text=Text(annotations=[], value='I need to solve equation 2x+5=10. Can u help me ?'), type='text')], created_at=1703763217, file_ids=[], metadata={}, object='thread.message', role='user', run_id=None, thread_id='thread_5NWhsInhqGuNP24GrnzIdBo9')]\n",
      "[ThreadMessage(id='msg_c6aXAiVz2lrnQGmiu2BWUb6M', assistant_id='asst_30bQZvjDwaLS9Yh9ZgVTGNCN', content=[MessageContentText(text=Text(annotations=[], value='The solution to the equation 3x + 11 = 14 is \\\\( x = 1 \\\\)'), type='text')], created_at=1703763922, file_ids=[], metadata={}, object='thread.message', role='assistant', run_id='run_8L6smI56DxDx0iChivZdIGcr', thread_id='thread_5NWhsInhqGuNP24GrnzIdBo9'), ThreadMessage(id='msg_VLIv28arIZKcJOjAbMBThtxm', assistant_id='asst_30bQZvjDwaLS9Yh9ZgVTGNCN', content=[MessageContentText(text=Text(annotations=[], value=\"Absolutely! I can assist you with solving the equation 3x + 11 = 14. I'll proceed with the calculation.\"), type='text')], created_at=1703763914, file_ids=[], metadata={}, object='thread.message', role='assistant', run_id='run_8L6smI56DxDx0iChivZdIGcr', thread_id='thread_5NWhsInhqGuNP24GrnzIdBo9'), ThreadMessage(id='msg_eN86mgRuGrTmAa1pPi280aqp', assistant_id=None, content=[MessageContentText(text=Text(annotations=[], value='I need to solve equation 3x+11=14. Can u help me ?'), type='text')], created_at=1703763908, file_ids=[], metadata={}, object='thread.message', role='user', run_id=None, thread_id='thread_5NWhsInhqGuNP24GrnzIdBo9'), ThreadMessage(id='msg_cJZbev3NPCDNWpMqrEaUWZr4', assistant_id='asst_30bQZvjDwaLS9Yh9ZgVTGNCN', content=[MessageContentText(text=Text(annotations=[], value='The solution to the equation 2x + 5 = 10 is \\\\( x = \\\\frac{5}{2} \\\\)'), type='text')], created_at=1703763402, file_ids=[], metadata={}, object='thread.message', role='assistant', run_id='run_p3PgeTthomY0DVgyf8Xiw6Zg', thread_id='thread_5NWhsInhqGuNP24GrnzIdBo9'), ThreadMessage(id='msg_fqB9zqfjD1nkgpHUXLWqmT4X', assistant_id='asst_30bQZvjDwaLS9Yh9ZgVTGNCN', content=[MessageContentText(text=Text(annotations=[], value='Of course! To solve the equation 2x + 5 = 10, we can isolate the variable x by performing algebraic operations. Let me calculate the value of x for you.'), type='text')], created_at=1703763384, file_ids=[], metadata={}, object='thread.message', role='assistant', run_id='run_p3PgeTthomY0DVgyf8Xiw6Zg', thread_id='thread_5NWhsInhqGuNP24GrnzIdBo9'), ThreadMessage(id='msg_Rc8apENUEkCdU2TfXrfAdgIO', assistant_id=None, content=[MessageContentText(text=Text(annotations=[], value='I need to solve equation 2x+5=10. Can u help me ?'), type='text')], created_at=1703763217, file_ids=[], metadata={}, object='thread.message', role='user', run_id=None, thread_id='thread_5NWhsInhqGuNP24GrnzIdBo9')]\n",
      "user : I need to solve equation 2x+5=10. Can u help me ?\n",
      "assistant : Of course! To solve the equation 2x + 5 = 10, we can isolate the variable x by performing algebraic operations. Let me calculate the value of x for you.\n",
      "assistant : The solution to the equation 2x + 5 = 10 is \\( x = \\frac{5}{2} \\)\n",
      "user : I need to solve equation 3x+11=14. Can u help me ?\n",
      "assistant : Absolutely! I can assist you with solving the equation 3x + 11 = 14. I'll proceed with the calculation.\n",
      "assistant : The solution to the equation 3x + 11 = 14 is \\( x = 1 \\)\n"
     ]
    }
   ],
   "source": [
    "messages:list[ThreadMessage]=client.beta.threads.messages.list(\n",
    "    thread_id=thread.id\n",
    ")\n",
    "\n",
    "print(list(messages))\n",
    "print(list(messages.data))\n",
    "\n",
    "for i in reversed(messages.data):\n",
    "    print(i.role +\" : \" + i.content[0].text.value)"
   ]
  }
 ],
 "metadata": {
  "kernelspec": {
   "display_name": "myopenai",
   "language": "python",
   "name": "python3"
  },
  "language_info": {
   "codemirror_mode": {
    "name": "ipython",
    "version": 3
   },
   "file_extension": ".py",
   "mimetype": "text/x-python",
   "name": "python",
   "nbconvert_exporter": "python",
   "pygments_lexer": "ipython3",
   "version": "3.11.5"
  }
 },
 "nbformat": 4,
 "nbformat_minor": 2
}
